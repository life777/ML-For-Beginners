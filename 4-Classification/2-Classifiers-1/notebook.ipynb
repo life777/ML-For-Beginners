{
 "cells": [
  {
   "cell_type": "markdown",
   "metadata": {},
   "source": [
    "# Build Classification Models"
   ]
  },
  {
   "cell_type": "code",
   "execution_count": 43,
   "metadata": {},
   "outputs": [
    {
     "data": {
      "text/html": [
       "<div>\n",
       "<style scoped>\n",
       "    .dataframe tbody tr th:only-of-type {\n",
       "        vertical-align: middle;\n",
       "    }\n",
       "\n",
       "    .dataframe tbody tr th {\n",
       "        vertical-align: top;\n",
       "    }\n",
       "\n",
       "    .dataframe thead th {\n",
       "        text-align: right;\n",
       "    }\n",
       "</style>\n",
       "<table border=\"1\" class=\"dataframe\">\n",
       "  <thead>\n",
       "    <tr style=\"text-align: right;\">\n",
       "      <th></th>\n",
       "      <th>Unnamed: 0</th>\n",
       "      <th>cuisine</th>\n",
       "      <th>soy_sauce</th>\n",
       "      <th>cayenne</th>\n",
       "      <th>scallion</th>\n",
       "      <th>vegetable_oil</th>\n",
       "      <th>onion</th>\n",
       "      <th>sesame_oil</th>\n",
       "      <th>black_pepper</th>\n",
       "      <th>vinegar</th>\n",
       "      <th>...</th>\n",
       "      <th>kumquat</th>\n",
       "      <th>raw_beef</th>\n",
       "      <th>red_algae</th>\n",
       "      <th>chervil</th>\n",
       "      <th>sauerkraut</th>\n",
       "      <th>chayote</th>\n",
       "      <th>champagne_wine</th>\n",
       "      <th>catfish</th>\n",
       "      <th>brussels_sprout</th>\n",
       "      <th>liver</th>\n",
       "    </tr>\n",
       "  </thead>\n",
       "  <tbody>\n",
       "    <tr>\n",
       "      <th>0</th>\n",
       "      <td>0</td>\n",
       "      <td>indian</td>\n",
       "      <td>0</td>\n",
       "      <td>1</td>\n",
       "      <td>0</td>\n",
       "      <td>0</td>\n",
       "      <td>0</td>\n",
       "      <td>0</td>\n",
       "      <td>0</td>\n",
       "      <td>0</td>\n",
       "      <td>...</td>\n",
       "      <td>0</td>\n",
       "      <td>0</td>\n",
       "      <td>0</td>\n",
       "      <td>0</td>\n",
       "      <td>0</td>\n",
       "      <td>0</td>\n",
       "      <td>0</td>\n",
       "      <td>0</td>\n",
       "      <td>0</td>\n",
       "      <td>0</td>\n",
       "    </tr>\n",
       "    <tr>\n",
       "      <th>1</th>\n",
       "      <td>1</td>\n",
       "      <td>indian</td>\n",
       "      <td>0</td>\n",
       "      <td>0</td>\n",
       "      <td>0</td>\n",
       "      <td>0</td>\n",
       "      <td>0</td>\n",
       "      <td>0</td>\n",
       "      <td>0</td>\n",
       "      <td>0</td>\n",
       "      <td>...</td>\n",
       "      <td>0</td>\n",
       "      <td>0</td>\n",
       "      <td>0</td>\n",
       "      <td>0</td>\n",
       "      <td>0</td>\n",
       "      <td>0</td>\n",
       "      <td>0</td>\n",
       "      <td>0</td>\n",
       "      <td>0</td>\n",
       "      <td>0</td>\n",
       "    </tr>\n",
       "    <tr>\n",
       "      <th>2</th>\n",
       "      <td>2</td>\n",
       "      <td>indian</td>\n",
       "      <td>0</td>\n",
       "      <td>0</td>\n",
       "      <td>0</td>\n",
       "      <td>0</td>\n",
       "      <td>0</td>\n",
       "      <td>0</td>\n",
       "      <td>0</td>\n",
       "      <td>0</td>\n",
       "      <td>...</td>\n",
       "      <td>0</td>\n",
       "      <td>0</td>\n",
       "      <td>0</td>\n",
       "      <td>0</td>\n",
       "      <td>0</td>\n",
       "      <td>0</td>\n",
       "      <td>0</td>\n",
       "      <td>0</td>\n",
       "      <td>0</td>\n",
       "      <td>0</td>\n",
       "    </tr>\n",
       "    <tr>\n",
       "      <th>3</th>\n",
       "      <td>3</td>\n",
       "      <td>indian</td>\n",
       "      <td>0</td>\n",
       "      <td>1</td>\n",
       "      <td>0</td>\n",
       "      <td>0</td>\n",
       "      <td>1</td>\n",
       "      <td>0</td>\n",
       "      <td>0</td>\n",
       "      <td>0</td>\n",
       "      <td>...</td>\n",
       "      <td>0</td>\n",
       "      <td>0</td>\n",
       "      <td>0</td>\n",
       "      <td>0</td>\n",
       "      <td>0</td>\n",
       "      <td>0</td>\n",
       "      <td>0</td>\n",
       "      <td>0</td>\n",
       "      <td>0</td>\n",
       "      <td>0</td>\n",
       "    </tr>\n",
       "    <tr>\n",
       "      <th>4</th>\n",
       "      <td>4</td>\n",
       "      <td>indian</td>\n",
       "      <td>0</td>\n",
       "      <td>1</td>\n",
       "      <td>0</td>\n",
       "      <td>0</td>\n",
       "      <td>0</td>\n",
       "      <td>0</td>\n",
       "      <td>1</td>\n",
       "      <td>0</td>\n",
       "      <td>...</td>\n",
       "      <td>0</td>\n",
       "      <td>0</td>\n",
       "      <td>0</td>\n",
       "      <td>0</td>\n",
       "      <td>0</td>\n",
       "      <td>0</td>\n",
       "      <td>0</td>\n",
       "      <td>0</td>\n",
       "      <td>0</td>\n",
       "      <td>0</td>\n",
       "    </tr>\n",
       "  </tbody>\n",
       "</table>\n",
       "<p>5 rows × 283 columns</p>\n",
       "</div>"
      ],
      "text/plain": [
       "   Unnamed: 0 cuisine  soy_sauce  cayenne  scallion  vegetable_oil  onion  \\\n",
       "0           0  indian          0        1         0              0      0   \n",
       "1           1  indian          0        0         0              0      0   \n",
       "2           2  indian          0        0         0              0      0   \n",
       "3           3  indian          0        1         0              0      1   \n",
       "4           4  indian          0        1         0              0      0   \n",
       "\n",
       "   sesame_oil  black_pepper  vinegar  ...  kumquat  raw_beef  red_algae  \\\n",
       "0           0             0        0  ...        0         0          0   \n",
       "1           0             0        0  ...        0         0          0   \n",
       "2           0             0        0  ...        0         0          0   \n",
       "3           0             0        0  ...        0         0          0   \n",
       "4           0             1        0  ...        0         0          0   \n",
       "\n",
       "   chervil  sauerkraut  chayote  champagne_wine  catfish  brussels_sprout  \\\n",
       "0        0           0        0               0        0                0   \n",
       "1        0           0        0               0        0                0   \n",
       "2        0           0        0               0        0                0   \n",
       "3        0           0        0               0        0                0   \n",
       "4        0           0        0               0        0                0   \n",
       "\n",
       "   liver  \n",
       "0      0  \n",
       "1      0  \n",
       "2      0  \n",
       "3      0  \n",
       "4      0  \n",
       "\n",
       "[5 rows x 283 columns]"
      ]
     },
     "execution_count": 43,
     "metadata": {},
     "output_type": "execute_result"
    }
   ],
   "source": [
    "import pandas as pd\n",
    "cuisines_df = pd.read_csv(\"../data/cleaned_cuisines.csv\")\n",
    "cuisines_df.head()"
   ]
  },
  {
   "cell_type": "code",
   "execution_count": 44,
   "metadata": {},
   "outputs": [],
   "source": [
    "from sklearn.linear_model import LogisticRegression\n",
    "from sklearn.model_selection import train_test_split, cross_val_score\n",
    "from sklearn.metrics import accuracy_score, precision_score, confusion_matrix, classification_report, precision_recall_curve\n",
    "from sklearn.svm import SVC\n",
    "import numpy as np"
   ]
  },
  {
   "cell_type": "code",
   "execution_count": 45,
   "metadata": {},
   "outputs": [],
   "source": [
    "x = cuisines_df.drop([\"cuisine\", \"Unnamed: 0\"], axis=1)\n",
    "y = cuisines_df.cuisine"
   ]
  },
  {
   "cell_type": "code",
   "execution_count": 46,
   "metadata": {},
   "outputs": [],
   "source": [
    "x_train, x_test, y_train, y_test = train_test_split(x, y, test_size=0.2, random_state=False)"
   ]
  },
  {
   "cell_type": "code",
   "execution_count": 66,
   "metadata": {},
   "outputs": [
    {
     "name": "stdout",
     "output_type": "stream",
     "text": [
      "Score 0.8197747183979975\n"
     ]
    }
   ],
   "source": [
    "# OVR is a algorithm to create multiclass classifier out of binary classifiers:\n",
    "# we have 4 classes: 1,2,3,4. it created classifiers for 1 vs [2,3,4], 2 vs [1,3,4], 3 vs [1,2,4] and 4 vs [1,2,3]\n",
    "\n",
    "# OVO the same but it creates combinations of all classes: 1 vs 2, 1 vs 3, 1 vs 4 ....\n",
    "\n",
    "# multinomial doesn't split model into binary classifiers, it uses softmax regression algorithm.\n",
    "# It directly generalizes logistic regression to multi-class problems without decomposing it into multiple binary classification tasks.\n",
    "\n",
    "# Let's try different solvers:  \n",
    "model = LogisticRegression(multi_class=\"ovr\", solver=\"liblinear\", penalty=\"l1\")\n",
    "model = model.fit(x_train, y_train)\n",
    "\n",
    "print(f'Score {model.score(x_test, y_test)}')\n"
   ]
  },
  {
   "cell_type": "code",
   "execution_count": 85,
   "metadata": {},
   "outputs": [
    {
     "name": "stdout",
     "output_type": "stream",
     "text": [
      "Index(['pepper', 'sesame_seed', 'olive_oil', 'potato', 'mandarin_peel'], dtype='object')\n"
     ]
    },
    {
     "name": "stderr",
     "output_type": "stream",
     "text": [
      "/home/vlad/experiments/ML-For-Beginners/.venv/lib/python3.10/site-packages/sklearn/base.py:465: UserWarning: X does not have valid feature names, but LogisticRegression was fitted with feature names\n",
      "  warnings.warn(\n"
     ]
    },
    {
     "data": {
      "text/html": [
       "<div>\n",
       "<style scoped>\n",
       "    .dataframe tbody tr th:only-of-type {\n",
       "        vertical-align: middle;\n",
       "    }\n",
       "\n",
       "    .dataframe tbody tr th {\n",
       "        vertical-align: top;\n",
       "    }\n",
       "\n",
       "    .dataframe thead th {\n",
       "        text-align: right;\n",
       "    }\n",
       "</style>\n",
       "<table border=\"1\" class=\"dataframe\">\n",
       "  <thead>\n",
       "    <tr style=\"text-align: right;\">\n",
       "      <th></th>\n",
       "      <th>chinese</th>\n",
       "      <th>indian</th>\n",
       "      <th>japanese</th>\n",
       "      <th>korean</th>\n",
       "      <th>thai</th>\n",
       "    </tr>\n",
       "  </thead>\n",
       "  <tbody>\n",
       "    <tr>\n",
       "      <th>0</th>\n",
       "      <td>0.066683</td>\n",
       "      <td>0.073784</td>\n",
       "      <td>0.791973</td>\n",
       "      <td>0.055377</td>\n",
       "      <td>0.012183</td>\n",
       "    </tr>\n",
       "  </tbody>\n",
       "</table>\n",
       "</div>"
      ],
      "text/plain": [
       "    chinese    indian  japanese    korean      thai\n",
       "0  0.066683  0.073784  0.791973  0.055377  0.012183"
      ]
     },
     "execution_count": 85,
     "metadata": {},
     "output_type": "execute_result"
    }
   ],
   "source": [
    "# ravel just flatterns an array\n",
    "example = x_test.iloc[30].values.ravel()\n",
    "\n",
    "print(x_test.iloc[30][x_test.iloc[30] > 0].keys())\n",
    "# print(model.coef_[0][[index for index, v in enumerate(x_test.iloc[30] > 0) if v]])\n",
    "proba = model.predict_proba([example])\n",
    "\n",
    "classes = model.classes_\n",
    "resultdf = pd.DataFrame(data=proba, columns=classes)\n",
    "\n",
    "resultdf.head()"
   ]
  },
  {
   "cell_type": "code",
   "execution_count": 87,
   "metadata": {},
   "outputs": [
    {
     "name": "stdout",
     "output_type": "stream",
     "text": [
      "              precision    recall  f1-score   support\n",
      "\n",
      "     chinese       0.81      0.71      0.75       177\n",
      "      indian       0.88      0.87      0.88       151\n",
      "    japanese       0.78      0.83      0.80       164\n",
      "      korean       0.86      0.79      0.82       149\n",
      "        thai       0.79      0.91      0.85       158\n",
      "\n",
      "    accuracy                           0.82       799\n",
      "   macro avg       0.82      0.82      0.82       799\n",
      "weighted avg       0.82      0.82      0.82       799\n",
      "\n"
     ]
    }
   ],
   "source": [
    "pred = model.predict(x_test)\n",
    "print(classification_report(y_test, pred))"
   ]
  }
 ],
 "metadata": {
  "kernelspec": {
   "display_name": ".venv",
   "language": "python",
   "name": "python3"
  },
  "language_info": {
   "codemirror_mode": {
    "name": "ipython",
    "version": 3
   },
   "file_extension": ".py",
   "mimetype": "text/x-python",
   "name": "python",
   "nbconvert_exporter": "python",
   "pygments_lexer": "ipython3",
   "version": "3.10.12"
  },
  "orig_nbformat": 2
 },
 "nbformat": 4,
 "nbformat_minor": 2
}
